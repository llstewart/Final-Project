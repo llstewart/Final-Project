{
 "cells": [
  {
   "cell_type": "markdown",
   "id": "60619ad3-3aec-40ae-a5fe-a694df40378e",
   "metadata": {},
   "source": [
    "__Name:__  Lincoln Stewart  \n",
    "__INST447 Spring 2024__"
   ]
  },
  {
   "cell_type": "code",
   "execution_count": null,
   "id": "a7290098-2b91-43f2-8c68-91a5150c8dbd",
   "metadata": {},
   "outputs": [],
   "source": [
    "# Do you need any imports?\n",
    "import pandas as pd\n",
    "import numpy as np"
   ]
  },
  {
   "cell_type": "markdown",
   "id": "19058855-c623-4b02-8f0a-f3e170c88db5",
   "metadata": {},
   "source": [
    "# Week 2 Worksheet\n",
    "\n",
    "__Instructions__\n",
    "\n",
    "If the answer is code, then use a code cell. If the answer is text, then use a markdown cell. \n",
    "\n",
    "Before submitting your assignment, you should remove any unused code and use `Restart & Run All` to make sure that all of your code is working and that there isn't output that will be confusing for the grader.\n",
    "\n",
    "These exercises come from the book:\n",
    "\"Hands-On: Data PreProcessing with Python\" by Roy Jafari.\n"
   ]
  },
  {
   "cell_type": "markdown",
   "id": "5d5dfc71-2855-4930-b2b7-02b6389ffe06",
   "metadata": {},
   "source": [
    "##### Exercise 3    \n",
    "\n",
    "For this exercise, we are going to use US_Accidents.csv. Answer the following questions. This dataset is from Kaggle.com, use this link to see its page: https://www.kaggle.com/sobhanmoosavi/us-accidents.\n",
    "This dataset shows all the car accidents in the US from February 2016 to Dec 2020. \n",
    "\n",
    "Warning: This dataset is over 3GB.\n"
   ]
  },
  {
   "cell_type": "markdown",
   "id": "3199d65a-5a9d-4e3a-9f8d-c3901b31147e",
   "metadata": {},
   "source": [
    "    a)\tWhat is the best definition of the data object for this dataset?\n",
    "    The best definition for the data object in this dataset \n",
    "    b)\tAre there any attributes in the data that only have one value? Use .unique() function to check. If there are remove them from the data and update the definition of the data object.\n",
    "    c)\tWhat type of values do the remaining attributes carry?\n",
    "    d)\tHow much statistical information the numerical attributes of the dataset carry? (pg. 88)\n",
    "    e)\tCompare the statistical information of the numerical attributes and see if any of them are a candidate for data redundancy. (pg. 89 & 90)"
   ]
  },
  {
   "cell_type": "markdown",
   "id": "8fc1e485-c891-4747-b61a-f8c425969032",
   "metadata": {},
   "source": [
    "##### Exercise 4 \n",
    "\n",
    "For this exercise, we are going to use fatal-police-shootings-data.csv. There are a lot of debates, discussions, dialogues, and protests happening in the US surrounding police killings. The Washington Post has been collecting data on all fatal police shootings in the US. The dataset available to the government and the public alike has date, age, gender, race, location, and other situational information of these fatal police shootings. You can read more about this data on https://www.washingtonpost.com/graphics/investigations/police-shootings-database/, and you can download the last version of the data from https://github.com/washingtonpost/data-police-shootings\n",
    "\n",
    "Use version `V1`."
   ]
  },
  {
   "cell_type": "markdown",
   "id": "037c07f0-5bf7-4335-8af7-c864ac318464",
   "metadata": {},
   "source": [
    "    a)\tWhat is the best definition of the data object for this dataset?\n",
    "The best definition of the data object includes attributes of types int64, float64, object (O), and bool, with various specific attributes such as id, name, date.\n",
    "    \n",
    "    b)\tAre there any attributes in the data that only have one value? Use .unique() function to check. If there are remove them from the data and update the definition of the data object.\n",
    " There are no attributes in the dataset that only have one value, so no attributes were removed.\n",
    "    \n",
    "    c)\tWhat type of values do the remaining attributes carry?\n",
    "    The remaining attributes carry types: object (10 attributes), float64 (3 attributes), bool (3 attributes), and int64 (1 attribute).\n",
    "    d)\tHow much statistical information the numerical attributes of the dataset carry? (pg. 88)\n",
    "The numerical attributes (id, age, longitude, latitude) carry statistical information such as count, mean, std (standard deviation), min, 25th percentile, 50th percentile (median), 75th percentile, and max values.\n",
    "    e)\tCompare the statistical information of the numerical attributes and see if any of them are a candidate for data redundancy. (pg. 89 & 90)\n",
    "Each numerical attribute appears to serve a unique purpose without immediate indication of redundancy. ​"
   ]
  },
  {
   "cell_type": "markdown",
   "id": "1788e7bf-c4a6-426d-8173-f9f321b3bfda",
   "metadata": {},
   "source": [
    "##### Exercise 6\n",
    "For this exercise, we will be using adult.csv. we used this dataset extensively in chapter 1. Read the dataset using Padans and call it adult_df."
   ]
  },
  {
   "cell_type": "code",
   "execution_count": null,
   "id": "490bf7cc-a411-4e7e-b5a4-80d1c27bf0c2",
   "metadata": {},
   "outputs": [],
   "source": [
    "adults_df = pd.read_csv('US_Accidents_March23.csv')\n",
    "adults_df.head(5)"
   ]
  },
  {
   "cell_type": "markdown",
   "id": "b099381f-70fb-4557-8479-aa87093cd17c",
   "metadata": {},
   "source": [
    "    a)\tWhat type of values does the attribute eduction carry?\n",
    "    b)\tRun 'adult_df.education.unique()', study the results, and explain what the code does.\n",
    "    c)\tBased on your understandings, order the output of the code you ran for b).\n",
    "    d)\tRun 'pd.get_dummies(adult_df.education)', study the results, and explain what the code does.\n",
    "    e)\tRun 'adult_df.sort_values(['education-num']).iloc[1:32561:1200]', study the results and explain what the code does.\n",
    "    f)\tCompare your answer to c) and what you learned from e). Was the order you came up with in c) correct?\n",
    "    g)\tEducation is an ordinal attribute, translating an ordinal attribute from an analytic perspective to a programming perspective involves choosing between Boolean representation, string representation, and integer representation. Choose which choice has been made for the three following representations of the attribute education.\n",
    "        - 'adult_df.education'\n",
    "        - 'pd.get_dummies(adult_df.education)'\n",
    "        - 'adult_df[‘education’]'\n",
    "    h)\tEither of the choices has some advantages and some disadvantages. Select which programing data representation each statement below describes. \n",
    "        - If an ordinal attribute is presented using this programming value representation, no bias or assumptions are added to the data, but algorithms that work with numbers cannot use the attribute. \n",
    "        - If an ordinal attribute is presented using this programming value representation, the data can be used by algorithms that only take numbers, but the size of the data becomes bigger and there may be concerns for computational costs.\n",
    "        - If an ordinal attribute is presented using this programming value representation, there will be no size or computational concerns, but some statistical information that may not be true is assumed and it may create bias.\n"
   ]
  },
  {
   "cell_type": "code",
   "execution_count": null,
   "id": "6d1c5c80-ce09-4960-b68e-7ea24fdfbefa",
   "metadata": {},
   "outputs": [],
   "source": []
  }
 ],
 "metadata": {
  "kernelspec": {
   "display_name": "Python 3 (ipykernel)",
   "language": "python",
   "name": "python3"
  },
  "language_info": {
   "codemirror_mode": {
    "name": "ipython",
    "version": 3
   },
   "file_extension": ".py",
   "mimetype": "text/x-python",
   "name": "python",
   "nbconvert_exporter": "python",
   "pygments_lexer": "ipython3",
   "version": "3.11.3"
  }
 },
 "nbformat": 4,
 "nbformat_minor": 5
}
